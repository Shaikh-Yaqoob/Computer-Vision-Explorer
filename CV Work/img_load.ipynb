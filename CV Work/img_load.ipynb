{
 "cells": [
  {
   "cell_type": "code",
   "execution_count": 16,
   "id": "c90394b5",
   "metadata": {},
   "outputs": [],
   "source": [
    "import cv2"
   ]
  },
  {
   "cell_type": "code",
   "execution_count": 17,
   "id": "4d25cb92",
   "metadata": {},
   "outputs": [],
   "source": [
    "import numpy as np"
   ]
  },
  {
   "cell_type": "markdown",
   "id": "87584bc8",
   "metadata": {},
   "source": [
    "#  LOAD IMAGE "
   ]
  },
  {
   "cell_type": "code",
   "execution_count": null,
   "id": "10fb1a7b",
   "metadata": {},
   "outputs": [],
   "source": [
    "# img = cv2.imread(\"obj.jpg\",0)"
   ]
  },
  {
   "cell_type": "code",
   "execution_count": 19,
   "id": "e7b27c73",
   "metadata": {},
   "outputs": [],
   "source": [
    "#cv2.imshow(\"Summer Holiday\",img)\n",
    "#cv2.waitKey(0) & 0xFF\n",
    "#cv2.destroyAllWindows()"
   ]
  },
  {
   "cell_type": "markdown",
   "id": "e1e82f73",
   "metadata": {},
   "source": [
    "# COLOR TO GRAYSCALE CONVERSION"
   ]
  },
  {
   "cell_type": "code",
   "execution_count": 20,
   "id": "3e584653",
   "metadata": {},
   "outputs": [],
   "source": [
    "#img = cv2.imread(\"obj.jpg\")\n",
    "#grayimg = cv2.cvtColor(img, cv2.COLOR_BGR2GRAY)"
   ]
  },
  {
   "cell_type": "code",
   "execution_count": 21,
   "id": "ab241c15",
   "metadata": {},
   "outputs": [],
   "source": [
    "#cv2.imshow(\"Summer Holiday COLOR\",img)\n",
    "#cv2.imshow(\"Summer Holiday B/W\",grayimg)\n",
    "#cv2.waitKey(0) & 0xFF\n",
    "#cv2.destroyAllWindows()"
   ]
  },
  {
   "cell_type": "markdown",
   "id": "c15774a4",
   "metadata": {},
   "source": [
    "# METADATA ABOUT IMAGE"
   ]
  },
  {
   "cell_type": "code",
   "execution_count": 27,
   "id": "085af53d",
   "metadata": {},
   "outputs": [],
   "source": [
    "img = cv2.imread(\"obj.jpg\")"
   ]
  },
  {
   "cell_type": "code",
   "execution_count": 28,
   "id": "14d47473",
   "metadata": {},
   "outputs": [],
   "source": [
    "height,width,depth = np.shape(img)"
   ]
  },
  {
   "cell_type": "code",
   "execution_count": 29,
   "id": "16b9334b",
   "metadata": {},
   "outputs": [
    {
     "name": "stdout",
     "output_type": "stream",
     "text": [
      "height667\n",
      "width1000\n",
      "depth3\n"
     ]
    }
   ],
   "source": [
    "print(\"height\" + str(height))\n",
    "print(\"width\" + str(width))\n",
    "print(\"depth\" + str(depth))"
   ]
  },
  {
   "cell_type": "code",
   "execution_count": 30,
   "id": "188ad462",
   "metadata": {},
   "outputs": [],
   "source": [
    "cv2.imshow(\"Summer Holiday\",img)\n",
    "cv2.waitKey(0) & 0xFF\n",
    "cv2.destroyAllWindows()"
   ]
  }
 ],
 "metadata": {
  "kernelspec": {
   "display_name": "Python 3 (ipykernel)",
   "language": "python",
   "name": "python3"
  },
  "language_info": {
   "codemirror_mode": {
    "name": "ipython",
    "version": 3
   },
   "file_extension": ".py",
   "mimetype": "text/x-python",
   "name": "python",
   "nbconvert_exporter": "python",
   "pygments_lexer": "ipython3",
   "version": "3.11.4"
  }
 },
 "nbformat": 4,
 "nbformat_minor": 5
}
