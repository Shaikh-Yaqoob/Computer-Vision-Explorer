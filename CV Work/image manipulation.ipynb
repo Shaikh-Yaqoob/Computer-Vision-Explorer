{
 "cells": [
  {
   "cell_type": "markdown",
   "id": "d52fa571",
   "metadata": {},
   "source": [
    "# image manipulation"
   ]
  },
  {
   "cell_type": "code",
   "execution_count": 64,
   "id": "cac0eac1",
   "metadata": {},
   "outputs": [],
   "source": [
    "import cv2\n",
    "import numpy as np"
   ]
  },
  {
   "cell_type": "code",
   "execution_count": 65,
   "id": "8b93396d",
   "metadata": {},
   "outputs": [],
   "source": [
    "img = cv2.imread(\"car.jpg\")\n"
   ]
  },
  {
   "cell_type": "code",
   "execution_count": 66,
   "id": "d08ea131",
   "metadata": {},
   "outputs": [
    {
     "data": {
      "text/plain": [
       "array([[[  0,   0, 225],\n",
       "        [  0,   0, 225],\n",
       "        [  0,   0, 225],\n",
       "        ...,\n",
       "        [238, 233, 232],\n",
       "        [239, 234, 233],\n",
       "        [239, 234, 233]],\n",
       "\n",
       "       [[  0,   0, 225],\n",
       "        [  0,   0, 225],\n",
       "        [  0,   0, 225],\n",
       "        ...,\n",
       "        [239, 234, 233],\n",
       "        [239, 234, 233],\n",
       "        [239, 234, 233]],\n",
       "\n",
       "       [[  0,   0, 225],\n",
       "        [  0,   0, 225],\n",
       "        [  0,   0, 225],\n",
       "        ...,\n",
       "        [239, 234, 233],\n",
       "        [239, 234, 233],\n",
       "        [239, 234, 233]],\n",
       "\n",
       "       ...,\n",
       "\n",
       "       [[102,  86,  80],\n",
       "        [102,  86,  80],\n",
       "        [102,  86,  80],\n",
       "        ...,\n",
       "        [128, 109, 102],\n",
       "        [127, 108, 101],\n",
       "        [126, 107, 100]],\n",
       "\n",
       "       [[101,  85,  79],\n",
       "        [101,  85,  79],\n",
       "        [102,  86,  80],\n",
       "        ...,\n",
       "        [129, 110, 103],\n",
       "        [128, 109, 102],\n",
       "        [126, 107, 100]],\n",
       "\n",
       "       [[100,  84,  78],\n",
       "        [100,  84,  78],\n",
       "        [101,  85,  79],\n",
       "        ...,\n",
       "        [128, 109, 102],\n",
       "        [126, 107, 100],\n",
       "        [125, 106,  99]]], dtype=uint8)"
      ]
     },
     "execution_count": 66,
     "metadata": {},
     "output_type": "execute_result"
    }
   ],
   "source": [
    "cv2.line(img,(0,0),(100,100),(0,0,225),5)"
   ]
  },
  {
   "cell_type": "code",
   "execution_count": 67,
   "id": "90e73592",
   "metadata": {},
   "outputs": [
    {
     "data": {
      "text/plain": [
       "array([[[  0,   0, 255],\n",
       "        [  0,   0, 255],\n",
       "        [  0,   0, 255],\n",
       "        ...,\n",
       "        [238, 233, 232],\n",
       "        [239, 234, 233],\n",
       "        [239, 234, 233]],\n",
       "\n",
       "       [[  0,   0, 255],\n",
       "        [  0,   0, 255],\n",
       "        [  0,   0, 255],\n",
       "        ...,\n",
       "        [239, 234, 233],\n",
       "        [239, 234, 233],\n",
       "        [239, 234, 233]],\n",
       "\n",
       "       [[  0,   0, 255],\n",
       "        [  0,   0, 255],\n",
       "        [  0,   0, 255],\n",
       "        ...,\n",
       "        [239, 234, 233],\n",
       "        [239, 234, 233],\n",
       "        [239, 234, 233]],\n",
       "\n",
       "       ...,\n",
       "\n",
       "       [[102,  86,  80],\n",
       "        [102,  86,  80],\n",
       "        [102,  86,  80],\n",
       "        ...,\n",
       "        [128, 109, 102],\n",
       "        [127, 108, 101],\n",
       "        [126, 107, 100]],\n",
       "\n",
       "       [[101,  85,  79],\n",
       "        [101,  85,  79],\n",
       "        [102,  86,  80],\n",
       "        ...,\n",
       "        [129, 110, 103],\n",
       "        [128, 109, 102],\n",
       "        [126, 107, 100]],\n",
       "\n",
       "       [[100,  84,  78],\n",
       "        [100,  84,  78],\n",
       "        [101,  85,  79],\n",
       "        ...,\n",
       "        [128, 109, 102],\n",
       "        [126, 107, 100],\n",
       "        [125, 106,  99]]], dtype=uint8)"
      ]
     },
     "execution_count": 67,
     "metadata": {},
     "output_type": "execute_result"
    }
   ],
   "source": [
    "pt1 = (0, 0)\n",
    "pt2 = (100, 100)\n",
    "color = (0, 0, 255)\n",
    "thickness = 5\n",
    "cv2.rectangle(img, pt1, pt2, color, thickness)"
   ]
  },
  {
   "cell_type": "code",
   "execution_count": 68,
   "id": "e74f1e55",
   "metadata": {},
   "outputs": [
    {
     "data": {
      "text/plain": [
       "array([[[  0,   0, 255],\n",
       "        [  0,   0, 255],\n",
       "        [  0,   0, 255],\n",
       "        ...,\n",
       "        [238, 233, 232],\n",
       "        [239, 234, 233],\n",
       "        [239, 234, 233]],\n",
       "\n",
       "       [[  0,   0, 255],\n",
       "        [  0,   0, 255],\n",
       "        [  0,   0, 255],\n",
       "        ...,\n",
       "        [239, 234, 233],\n",
       "        [239, 234, 233],\n",
       "        [239, 234, 233]],\n",
       "\n",
       "       [[  0,   0, 255],\n",
       "        [  0,   0, 255],\n",
       "        [  0,   0, 255],\n",
       "        ...,\n",
       "        [239, 234, 233],\n",
       "        [239, 234, 233],\n",
       "        [239, 234, 233]],\n",
       "\n",
       "       ...,\n",
       "\n",
       "       [[102,  86,  80],\n",
       "        [102,  86,  80],\n",
       "        [102,  86,  80],\n",
       "        ...,\n",
       "        [128, 109, 102],\n",
       "        [127, 108, 101],\n",
       "        [126, 107, 100]],\n",
       "\n",
       "       [[101,  85,  79],\n",
       "        [101,  85,  79],\n",
       "        [102,  86,  80],\n",
       "        ...,\n",
       "        [129, 110, 103],\n",
       "        [128, 109, 102],\n",
       "        [126, 107, 100]],\n",
       "\n",
       "       [[100,  84,  78],\n",
       "        [100,  84,  78],\n",
       "        [101,  85,  79],\n",
       "        ...,\n",
       "        [128, 109, 102],\n",
       "        [126, 107, 100],\n",
       "        [125, 106,  99]]], dtype=uint8)"
      ]
     },
     "execution_count": 68,
     "metadata": {},
     "output_type": "execute_result"
    }
   ],
   "source": [
    "center = (100, 100)\n",
    "radius = 50\n",
    "color = (0, 255, 0) \n",
    "thickness = 3\n",
    "cv2.circle(img, center, radius, color, thickness)\n",
    "center1 = (300, 300)\n",
    "radius1 = 50\n",
    "color1 = (0, 0, 255) \n",
    "thickness1 = 5\n",
    "cv2.circle(img, center1, radius1, color1, thickness1)"
   ]
  },
  {
   "cell_type": "code",
   "execution_count": 69,
   "id": "aff1a7a9",
   "metadata": {},
   "outputs": [],
   "source": [
    "cv2.imshow(\"image\",img)\n",
    "cv2.waitKey(0)\n",
    "cv2.destroyAllWindows()"
   ]
  }
 ],
 "metadata": {
  "kernelspec": {
   "display_name": "Python 3 (ipykernel)",
   "language": "python",
   "name": "python3"
  },
  "language_info": {
   "codemirror_mode": {
    "name": "ipython",
    "version": 3
   },
   "file_extension": ".py",
   "mimetype": "text/x-python",
   "name": "python",
   "nbconvert_exporter": "python",
   "pygments_lexer": "ipython3",
   "version": "3.11.4"
  }
 },
 "nbformat": 4,
 "nbformat_minor": 5
}
