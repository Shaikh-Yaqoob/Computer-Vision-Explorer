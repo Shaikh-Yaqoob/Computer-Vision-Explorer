{
 "cells": [
  {
   "cell_type": "markdown",
   "id": "dfa08476",
   "metadata": {},
   "source": [
    "# Pixels and Coordinates Access"
   ]
  },
  {
   "cell_type": "code",
   "execution_count": 101,
   "id": "c5e89814",
   "metadata": {},
   "outputs": [],
   "source": [
    "import cv2\n",
    "import numpy as np"
   ]
  },
  {
   "cell_type": "code",
   "execution_count": 102,
   "id": "be7ae123",
   "metadata": {},
   "outputs": [],
   "source": [
    "img = cv2.imread(\"obj.jpg\")"
   ]
  },
  {
   "cell_type": "code",
   "execution_count": 103,
   "id": "1426057a",
   "metadata": {},
   "outputs": [],
   "source": [
    "# print(img[1][1][0]) == 255\n",
    "# print(img[1][1][1]) == 255\n",
    "# print(img[1][1][2]) == 255\n",
    "# cv2.imshow(\"Summer Holiday\",img)\n",
    "# cv2.waitKey(0) & 0xFF\n",
    "# cv2.destroyAllWindows()"
   ]
  },
  {
   "cell_type": "markdown",
   "id": "377b256b",
   "metadata": {},
   "source": [
    "# change pixels in image"
   ]
  },
  {
   "cell_type": "code",
   "execution_count": 104,
   "id": "7540f411",
   "metadata": {},
   "outputs": [],
   "source": [
    "height,width,depth = np.shape(img)\n",
    "for j in range(0,height):\n",
    "    for i in range(0,width):\n",
    "        img[j][i][0] = 0\n",
    "        img[j][i][1] = 255\n",
    "        img[j][i][2] = 255"
   ]
  },
  {
   "cell_type": "code",
   "execution_count": 105,
   "id": "3ed1ff61",
   "metadata": {},
   "outputs": [],
   "source": [
    "cv2.imshow(\"Summer Holiday\",img)\n",
    "cv2.waitKey(0) & 0xFF\n",
    "cv2.destroyAllWindows()"
   ]
  },
  {
   "cell_type": "code",
   "execution_count": null,
   "id": "35ad9dc6",
   "metadata": {},
   "outputs": [],
   "source": []
  }
 ],
 "metadata": {
  "kernelspec": {
   "display_name": "Python 3 (ipykernel)",
   "language": "python",
   "name": "python3"
  },
  "language_info": {
   "codemirror_mode": {
    "name": "ipython",
    "version": 3
   },
   "file_extension": ".py",
   "mimetype": "text/x-python",
   "name": "python",
   "nbconvert_exporter": "python",
   "pygments_lexer": "ipython3",
   "version": "3.11.4"
  }
 },
 "nbformat": 4,
 "nbformat_minor": 5
}
