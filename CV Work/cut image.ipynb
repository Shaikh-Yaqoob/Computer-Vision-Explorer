{
 "cells": [
  {
   "cell_type": "markdown",
   "id": "b0e84a2b",
   "metadata": {},
   "source": [
    "# how cut image"
   ]
  },
  {
   "cell_type": "code",
   "execution_count": 36,
   "id": "fdb02782",
   "metadata": {},
   "outputs": [],
   "source": [
    "import numpy as np\n",
    "import cv2\n",
    "import sys"
   ]
  },
  {
   "cell_type": "code",
   "execution_count": 37,
   "id": "f9380f03",
   "metadata": {},
   "outputs": [],
   "source": [
    "path = \"obj.jpg\"\n",
    "img = cv2.imread(path)\n"
   ]
  },
  {
   "cell_type": "code",
   "execution_count": 38,
   "id": "9c9316be",
   "metadata": {},
   "outputs": [],
   "source": [
    "x = 100\n",
    "y = 200\n",
    "img = img[y:y+200,x:x+200]"
   ]
  },
  {
   "cell_type": "code",
   "execution_count": 39,
   "id": "2e3eb153",
   "metadata": {},
   "outputs": [],
   "source": [
    "cv2.imshow(\"cut\",img)\n",
    "cv2.waitKey(0)\n",
    "cv2.destroyAllWindows()"
   ]
  },
  {
   "cell_type": "code",
   "execution_count": null,
   "id": "064c8727",
   "metadata": {},
   "outputs": [],
   "source": []
  }
 ],
 "metadata": {
  "kernelspec": {
   "display_name": "Python 3 (ipykernel)",
   "language": "python",
   "name": "python3"
  },
  "language_info": {
   "codemirror_mode": {
    "name": "ipython",
    "version": 3
   },
   "file_extension": ".py",
   "mimetype": "text/x-python",
   "name": "python",
   "nbconvert_exporter": "python",
   "pygments_lexer": "ipython3",
   "version": "3.11.4"
  }
 },
 "nbformat": 4,
 "nbformat_minor": 5
}
