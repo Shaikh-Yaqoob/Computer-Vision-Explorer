{
 "cells": [
  {
   "cell_type": "markdown",
   "id": "378c6869",
   "metadata": {},
   "source": [
    "# How to add text on image"
   ]
  },
  {
   "cell_type": "code",
   "execution_count": 31,
   "id": "e4500981",
   "metadata": {},
   "outputs": [],
   "source": [
    "import cv2\n",
    "import numpy as np"
   ]
  },
  {
   "cell_type": "code",
   "execution_count": 32,
   "id": "80d9c2b4",
   "metadata": {},
   "outputs": [],
   "source": [
    "img = cv2.imread(\"car.jpg\")"
   ]
  },
  {
   "cell_type": "code",
   "execution_count": 33,
   "id": "9167fa20",
   "metadata": {},
   "outputs": [],
   "source": [
    "font = cv2.FONT_HERSHEY_SIMPLEX\n",
    "cv2.putText(img, \"opencv\", (10, 100), font, 10, (0, 0, 0), 5)\n",
    "cv2.putText(img, \"Hello World\", (10, 300), font, 10, (0, 0, 0), 5)\n",
    "# Display the image\n",
    "cv2.imshow(\"Image with Text\", img)\n",
    "cv2.waitKey(0)\n",
    "cv2.destroyAllWindows()\n"
   ]
  },
  {
   "cell_type": "code",
   "execution_count": null,
   "id": "1f458431",
   "metadata": {},
   "outputs": [],
   "source": [
    " "
   ]
  },
  {
   "cell_type": "code",
   "execution_count": null,
   "id": "9587267f",
   "metadata": {},
   "outputs": [],
   "source": []
  }
 ],
 "metadata": {
  "kernelspec": {
   "display_name": "Python 3 (ipykernel)",
   "language": "python",
   "name": "python3"
  },
  "language_info": {
   "codemirror_mode": {
    "name": "ipython",
    "version": 3
   },
   "file_extension": ".py",
   "mimetype": "text/x-python",
   "name": "python",
   "nbconvert_exporter": "python",
   "pygments_lexer": "ipython3",
   "version": "3.11.4"
  }
 },
 "nbformat": 4,
 "nbformat_minor": 5
}
